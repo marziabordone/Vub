{
 "cells": [
  {
   "cell_type": "code",
   "execution_count": 2,
   "id": "201e58cf",
   "metadata": {},
   "outputs": [],
   "source": [
    "import numpy as np"
   ]
  },
  {
   "cell_type": "code",
   "execution_count": 13,
   "id": "315e1301",
   "metadata": {},
   "outputs": [],
   "source": [
    "stdstat = np.array([0.067,0.152,0.423,0.019,0.026,0.036])\n",
    "stdsys = np.array([0.099,0.229,0.631,0.027,0.037,0.043])"
   ]
  },
  {
   "cell_type": "code",
   "execution_count": 6,
   "id": "fc0f9e92",
   "metadata": {},
   "outputs": [],
   "source": [
    "corrstat = np.array([[1,0.957,0.901,0.799,0.728,0.663],\n",
    "                     [0.957,1,0.989,0.758,0.720,0.662],\n",
    "                     [0.901,0.989,1,0.708,0.682,0.639],\n",
    "                     [0.799,0.758,0.708,1,0.971,0.921],\n",
    "                     [0.728,0.720,0.682,0.971,1,0.943],\n",
    "                     [0.663,0.662,0.639,0.921,0.943,1]])"
   ]
  },
  {
   "cell_type": "code",
   "execution_count": 8,
   "id": "12a06e3c",
   "metadata": {},
   "outputs": [],
   "source": [
    "corrsys = np.array([\n",
    "    [1,0.996,0.969,0.761,0.675,0.692],\n",
    "    [0.996,1,0.981,0.737,0.650,0.663],\n",
    "    [0.969,0.981,1,0.682,0.590,0.604],\n",
    "    [0.761,0.737,0.682,1,0.992,0.996],\n",
    "    [0.675,0.650,0.590,0.992,1,0.996],\n",
    "    [0.692,0.663,0.604,0.996,0.996,1]\n",
    "])"
   ]
  },
  {
   "cell_type": "code",
   "execution_count": 16,
   "id": "b9e2699d",
   "metadata": {},
   "outputs": [
    {
     "data": {
      "text/plain": [
       "array([[0.01429   , 0.0323264 , 0.0860677 , 0.00305128, 0.0037407 ,\n",
       "        0.004545  ],\n",
       "       [0.0323264 , 0.075545  , 0.20534226, 0.00674598, 0.00835289,\n",
       "        0.01015103],\n",
       "       [0.0860677 , 0.20534226, 0.57709   , 0.01730943, 0.02127537,\n",
       "        0.02611902],\n",
       "       [0.00305128, 0.00674598, 0.01730943, 0.00109   , 0.00147068,\n",
       "        0.00178632],\n",
       "       [0.0037407 , 0.00835289, 0.02127537, 0.00147068, 0.002045  ,\n",
       "        0.00246728],\n",
       "       [0.004545  , 0.01015103, 0.02611902, 0.00178632, 0.00246728,\n",
       "        0.003145  ]])"
      ]
     },
     "execution_count": 16,
     "metadata": {},
     "output_type": "execute_result"
    }
   ],
   "source": [
    "np.array([[ corrstat[i,j]*stdstat[i]*stdstat[j] for i in range(6)] for j in range(6) ])+np.array([[ corrsys[i,j]*stdsys[i]*stdsys[j] for i in range(6)] for j in range(6) ])"
   ]
  },
  {
   "cell_type": "code",
   "execution_count": null,
   "id": "4c165829",
   "metadata": {},
   "outputs": [],
   "source": []
  }
 ],
 "metadata": {
  "kernelspec": {
   "display_name": "eos-env",
   "language": "python",
   "name": "python3"
  },
  "language_info": {
   "codemirror_mode": {
    "name": "ipython",
    "version": 3
   },
   "file_extension": ".py",
   "mimetype": "text/x-python",
   "name": "python",
   "nbconvert_exporter": "python",
   "pygments_lexer": "ipython3",
   "version": "3.13.3"
  }
 },
 "nbformat": 4,
 "nbformat_minor": 5
}
